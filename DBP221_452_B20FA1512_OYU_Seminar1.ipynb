{
 "cells": [
  {
   "cell_type": "code",
   "execution_count": 1,
   "id": "d0495ecd",
   "metadata": {},
   "outputs": [
    {
     "name": "stdout",
     "output_type": "stream",
     "text": [
      "python\n",
      "php\n",
      "java\n"
     ]
    }
   ],
   "source": [
    "#1\n",
    "a = ['python', 'php', 'java']\n",
    "print(a[0])\n",
    "print(a[1])\n",
    "print(a[2])"
   ]
  },
  {
   "cell_type": "code",
   "execution_count": 5,
   "id": "ce10709b",
   "metadata": {},
   "outputs": [
    {
     "name": "stdout",
     "output_type": "stream",
     "text": [
      "sum= 469\n"
     ]
    }
   ],
   "source": [
    "#2\n",
    "b= [65,99,44,67,2,10,89,43,38,12]\n",
    "n = 0\n",
    "for i in range(0, len(b)):\n",
    "    n = n + b[i]\n",
    "print(\"sum=\", n)\n"
   ]
  },
  {
   "cell_type": "code",
   "execution_count": 6,
   "id": "c7294f8a",
   "metadata": {},
   "outputs": [
    {
     "name": "stdout",
     "output_type": "stream",
     "text": [
      "3200\n"
     ]
    }
   ],
   "source": [
    "#3\n",
    "c = [2,4,5,8,10]\n",
    "n = 1\n",
    "for i in range(0, len(c)):\n",
    "    n = n * c[i]\n",
    "print(n)\n"
   ]
  },
  {
   "cell_type": "code",
   "execution_count": 10,
   "id": "6b497919",
   "metadata": {},
   "outputs": [
    {
     "data": {
      "text/plain": [
       "50"
      ]
     },
     "execution_count": 10,
     "metadata": {},
     "output_type": "execute_result"
    }
   ],
   "source": [
    "#4\n",
    "d = [2,4,5,8,10]\n",
    "def multi(value):\n",
    "    a = d[2]\n",
    "    b = d[-1]\n",
    "    y = a * b\n",
    "    return y\n",
    "\n",
    "multi(d)\n"
   ]
  },
  {
   "cell_type": "code",
   "execution_count": 13,
   "id": "edf764d8",
   "metadata": {},
   "outputs": [
    {
     "data": {
      "text/plain": [
       "(10, 2)"
      ]
     },
     "execution_count": 13,
     "metadata": {},
     "output_type": "execute_result"
    }
   ],
   "source": [
    "#5\n",
    "e = [2,4,5,8,10]\n",
    "def y(e):\n",
    "    a = max(e)\n",
    "    b = min(e)\n",
    "    y = (a,b)\n",
    "    return y\n",
    "y(e)"
   ]
  },
  {
   "cell_type": "code",
   "execution_count": 14,
   "id": "ddbe6c60",
   "metadata": {},
   "outputs": [
    {
     "name": "stdout",
     "output_type": "stream",
     "text": [
      "2\n"
     ]
    }
   ],
   "source": [
    "#6\n",
    "f = [\"abdba\", \"abcd\", \"121\"]\n",
    "n = 0;\n",
    "for i in f:\n",
    "    if (len(i) >= 2 and i[0] == i[-1]):\n",
    "        n = n + 1\n",
    "print(n)"
   ]
  },
  {
   "cell_type": "code",
   "execution_count": 17,
   "id": "a9db23c8",
   "metadata": {},
   "outputs": [
    {
     "name": "stdout",
     "output_type": "stream",
     "text": [
      "['abdba', 'abcd', '121']\n"
     ]
    }
   ],
   "source": [
    "#7\n",
    "g = [\"abdba\", \"abcd\", \"121\", \"121\", \"abcd\"]\n",
    "g = dict.fromkeys(g)\n",
    "print(list(g))\n"
   ]
  },
  {
   "cell_type": "code",
   "execution_count": 19,
   "id": "b81b51eb",
   "metadata": {},
   "outputs": [
    {
     "name": "stdout",
     "output_type": "stream",
     "text": [
      "List is not empty\n"
     ]
    }
   ],
   "source": [
    "#8\n",
    "h = [5, 2, \"list\"]\n",
    "#h = []\n",
    "if h:\n",
    "    print(\"List is not empty\")\n",
    "else:\n",
    "    print(\"List is Empty\")"
   ]
  },
  {
   "cell_type": "code",
   "execution_count": 22,
   "id": "652df29b",
   "metadata": {},
   "outputs": [
    {
     "name": "stdout",
     "output_type": "stream",
     "text": [
      "[1, 1, 1, 1, 1, 1, 1, 1, 1]\n"
     ]
    }
   ],
   "source": [
    "#9\n",
    "j = [1, 1, 1, 1, 9, 1 ,9, 1,9, 1, 1, 1]\n",
    "anti_j = [4, 6, 8]\n",
    "for i in sorted(anti_j, reverse = True):\n",
    "    del j[i]\n",
    "print(j)\n"
   ]
  },
  {
   "cell_type": "code",
   "execution_count": 25,
   "id": "13e9ea23",
   "metadata": {},
   "outputs": [
    {
     "name": "stdout",
     "output_type": "stream",
     "text": [
      "(56, 89, 45, 36, 32)\n"
     ]
    }
   ],
   "source": [
    "#10 \n",
    "tuple_a = (56,89,45,36,32)\n",
    "print(tuple_a)"
   ]
  },
  {
   "cell_type": "code",
   "execution_count": 27,
   "id": "b6914adf",
   "metadata": {},
   "outputs": [
    {
     "name": "stdout",
     "output_type": "stream",
     "text": [
      "(56, 89, 45, 36, 32, 'a', 'b')\n"
     ]
    }
   ],
   "source": [
    "#11\n",
    "tuple_b = (56,89,45,36,32)\n",
    "y = list(tuple_b)\n",
    "y.extend([\"a\", \"b\"])\n",
    "tuple_b = tuple(y)\n",
    "print(tuple_b)"
   ]
  },
  {
   "cell_type": "code",
   "execution_count": 29,
   "id": "c0bf3d0b",
   "metadata": {},
   "outputs": [
    {
     "name": "stdout",
     "output_type": "stream",
     "text": [
      "(89, 'a')\n"
     ]
    }
   ],
   "source": [
    "#12 \n",
    "tuple_c = (56, 89, 45, 36, 32, 'a', 'b')\n",
    "x = tuple_c[1], tuple_c[-2]\n",
    "print(x)"
   ]
  },
  {
   "cell_type": "code",
   "execution_count": 32,
   "id": "9a9ca129",
   "metadata": {},
   "outputs": [
    {
     "name": "stdout",
     "output_type": "stream",
     "text": [
      "Test value: F\n",
      "no\n"
     ]
    }
   ],
   "source": [
    "#13 \n",
    "tuple_d = (\"A\",\"B\", \"C\", \"D\")\n",
    "x = input(\"Test value: \")\n",
    "if x in tuple_d:\n",
    "    print(\"yes\")\n",
    "else:\n",
    "    print(\"no\")"
   ]
  },
  {
   "cell_type": "code",
   "execution_count": 34,
   "id": "89afe7ef",
   "metadata": {},
   "outputs": [
    {
     "name": "stdout",
     "output_type": "stream",
     "text": [
      "56\n",
      "89\n",
      "45\n",
      "36\n",
      "32\n",
      "a\n",
      "b\n"
     ]
    }
   ],
   "source": [
    "#14\n",
    "tuple_e = (56, 89, 45, 36, 32, 'a', 'b')\n",
    "for i in tuple_e:\n",
    "    print(i)"
   ]
  },
  {
   "cell_type": "code",
   "execution_count": 35,
   "id": "bd64e9e0",
   "metadata": {},
   "outputs": [
    {
     "name": "stdout",
     "output_type": "stream",
     "text": [
      "{32, 'b', 'a', 36, 56, 89, 45}\n"
     ]
    }
   ],
   "source": [
    "#15\n",
    "set_a = {56, 89, 45, 36, 32}\n",
    "set_b = {\"a\", \"b\"}\n",
    "set_union = set_a.union(set_b)\n",
    "print(set_union)\n"
   ]
  },
  {
   "cell_type": "code",
   "execution_count": 37,
   "id": "e5a5ae87",
   "metadata": {},
   "outputs": [
    {
     "name": "stdout",
     "output_type": "stream",
     "text": [
      "{32, 36, 45, 56, 89}\n"
     ]
    }
   ],
   "source": [
    "#16\n",
    "set_a = {32, 'b', 'a', 36, 56, 89, 45}\n",
    "set_b = {56, 89, 45, 36, 32}\n",
    "set_dupli = set_a.intersection(set_b)\n",
    "print(set_dupli)"
   ]
  },
  {
   "cell_type": "code",
   "execution_count": 39,
   "id": "f9340369",
   "metadata": {},
   "outputs": [
    {
     "name": "stdout",
     "output_type": "stream",
     "text": [
      "7\n"
     ]
    }
   ],
   "source": [
    "#17\n",
    "set_a = {32, 'b', 'a', 36, 56, 89, 45}\n",
    "print(len(set_a))"
   ]
  },
  {
   "cell_type": "code",
   "execution_count": 41,
   "id": "5ee9e08f",
   "metadata": {},
   "outputs": [
    {
     "name": "stdout",
     "output_type": "stream",
     "text": [
      "{0, 4, 22, 7}\n"
     ]
    }
   ],
   "source": [
    "#18\n",
    "set_a = {4, 12, 0, 45, 22, 7}\n",
    "set_b = {45, 6, 34, 35, 18, 90, 12}\n",
    "set_remove = set_a.difference(set_b)\n",
    "print(set_remove)"
   ]
  },
  {
   "cell_type": "code",
   "execution_count": 42,
   "id": "605b3843",
   "metadata": {},
   "outputs": [
    {
     "name": "stdout",
     "output_type": "stream",
     "text": [
      "set()\n"
     ]
    }
   ],
   "source": [
    "#19\n",
    "set_a = {4, 12, 0, 45, 22, 7}\n",
    "set_a.clear()\n",
    "print(set_a)\n"
   ]
  },
  {
   "cell_type": "code",
   "execution_count": 45,
   "id": "51b36794",
   "metadata": {},
   "outputs": [
    {
     "ename": "NameError",
     "evalue": "name 'set_a' is not defined",
     "output_type": "error",
     "traceback": [
      "\u001b[1;31m---------------------------------------------------------------------------\u001b[0m",
      "\u001b[1;31mNameError\u001b[0m                                 Traceback (most recent call last)",
      "\u001b[1;32m~\\AppData\\Local\\Temp/ipykernel_15072/78981240.py\u001b[0m in \u001b[0;36m<module>\u001b[1;34m\u001b[0m\n\u001b[0;32m      2\u001b[0m \u001b[0mset_a\u001b[0m \u001b[1;33m=\u001b[0m \u001b[1;33m{\u001b[0m\u001b[1;36m56\u001b[0m\u001b[1;33m,\u001b[0m \u001b[1;36m89\u001b[0m\u001b[1;33m,\u001b[0m \u001b[1;36m45\u001b[0m\u001b[1;33m,\u001b[0m \u001b[1;36m36\u001b[0m\u001b[1;33m,\u001b[0m \u001b[1;36m32\u001b[0m\u001b[1;33m,\u001b[0m \u001b[1;34m'a'\u001b[0m\u001b[1;33m,\u001b[0m \u001b[1;34m'b'\u001b[0m\u001b[1;33m}\u001b[0m\u001b[1;33m\u001b[0m\u001b[1;33m\u001b[0m\u001b[0m\n\u001b[0;32m      3\u001b[0m \u001b[1;32mdel\u001b[0m \u001b[0mset_a\u001b[0m\u001b[1;33m\u001b[0m\u001b[1;33m\u001b[0m\u001b[0m\n\u001b[1;32m----> 4\u001b[1;33m \u001b[0mprint\u001b[0m\u001b[1;33m(\u001b[0m\u001b[0mset_a\u001b[0m\u001b[1;33m)\u001b[0m\u001b[1;33m\u001b[0m\u001b[1;33m\u001b[0m\u001b[0m\n\u001b[0m",
      "\u001b[1;31mNameError\u001b[0m: name 'set_a' is not defined"
     ]
    }
   ],
   "source": [
    "#20\n",
    "set_a = {56, 89, 45, 36, 32, 'a', 'b'}\n",
    "del set_a\n",
    "print(set_a)"
   ]
  },
  {
   "cell_type": "code",
   "execution_count": 53,
   "id": "a51fe423",
   "metadata": {},
   "outputs": [
    {
     "name": "stdout",
     "output_type": "stream",
     "text": [
      "ascending:  [(2, 0), (0, 0), (4, 2), (1, 7)]\n",
      "descending :  {1: 7, 4: 2, 2: 0, 0: 0}\n"
     ]
    }
   ],
   "source": [
    "#21\n",
    "import operator\n",
    "dict_a = {1: 3, 1: 7, 4: 2, 2: 0, 0: 0}\n",
    "sorted_dict = sorted(dict_a.items(), key=operator.itemgetter(1))\n",
    "print(\"ascending: \",sorted_dict)\n",
    "sorted_dict = dict( sorted(dict_a.items(), key=operator.itemgetter(1),reverse=True))\n",
    "print(\"descending : \",sorted_dict)"
   ]
  },
  {
   "cell_type": "code",
   "execution_count": 55,
   "id": "80aaaa21",
   "metadata": {},
   "outputs": [
    {
     "name": "stdout",
     "output_type": "stream",
     "text": [
      "the key is NOT in the dict\n"
     ]
    }
   ],
   "source": [
    "#22\n",
    "dict_b = {1: 3, 1: 7, 4: 2, 2: 0, 0: 0}\n",
    "key = 6\n",
    "if key in dict_b:\n",
    "    print(\"the key is in the dict\")\n",
    "else:\n",
    "    print(\"the key is NOT in the dict\")"
   ]
  },
  {
   "cell_type": "code",
   "execution_count": 56,
   "id": "0e7dfa34",
   "metadata": {},
   "outputs": [
    {
     "name": "stdout",
     "output_type": "stream",
     "text": [
      "the value is NOT in the dict\n"
     ]
    }
   ],
   "source": [
    "#23\n",
    "dict_b = {1: 3, 1: 7, 4: 2, 2: 0, 0: 0}\n",
    "value = 10\n",
    "if value in dict_b:\n",
    "    print(\"the value is in the dict\")\n",
    "else:\n",
    "    print(\"the value is NOT in the dict\")"
   ]
  },
  {
   "cell_type": "code",
   "execution_count": 57,
   "id": "8cf0729e",
   "metadata": {},
   "outputs": [
    {
     "name": "stdout",
     "output_type": "stream",
     "text": [
      "a 3\n",
      "b 7\n",
      "c 5\n",
      "d 2\n"
     ]
    }
   ],
   "source": [
    "#24\n",
    "dict_c = {\"a\": 3, \"b\": 7, \"c\": 5, \"d\": 2}\n",
    "for x,y in dict_c.items():\n",
    "    print(x,y)"
   ]
  },
  {
   "cell_type": "code",
   "execution_count": 58,
   "id": "b3697725",
   "metadata": {},
   "outputs": [
    {
     "data": {
      "text/plain": [
       "{'a': 3, 'b': 7, 'c': 5, 'd': 2}"
      ]
     },
     "execution_count": 58,
     "metadata": {},
     "output_type": "execute_result"
    }
   ],
   "source": [
    "#25\n",
    "dict_a = {\"a\": 3, \"b\": 7}\n",
    "dict_b = {\"c\": 5, \"d\": 2}\n",
    "y = dict_a.update(dict_b)\n",
    "dict_a"
   ]
  },
  {
   "cell_type": "code",
   "execution_count": 59,
   "id": "aabc968d",
   "metadata": {},
   "outputs": [
    {
     "name": "stdout",
     "output_type": "stream",
     "text": [
      "17\n"
     ]
    }
   ],
   "source": [
    "#26\n",
    "dict_d = {\"a\": 3, \"b\": 7, \"c\": 5, \"d\": 2}\n",
    "sum = 0\n",
    "for i in dict_d.values():\n",
    "    sum = sum + i\n",
    "print(sum)\n"
   ]
  },
  {
   "cell_type": "code",
   "execution_count": null,
   "id": "3a36170f",
   "metadata": {},
   "outputs": [],
   "source": []
  }
 ],
 "metadata": {
  "kernelspec": {
   "display_name": "Python 3 (ipykernel)",
   "language": "python",
   "name": "python3"
  },
  "language_info": {
   "codemirror_mode": {
    "name": "ipython",
    "version": 3
   },
   "file_extension": ".py",
   "mimetype": "text/x-python",
   "name": "python",
   "nbconvert_exporter": "python",
   "pygments_lexer": "ipython3",
   "version": "3.9.7"
  }
 },
 "nbformat": 4,
 "nbformat_minor": 5
}
